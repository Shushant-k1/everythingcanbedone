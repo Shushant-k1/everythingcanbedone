{
  "nbformat": 4,
  "nbformat_minor": 0,
  "metadata": {
    "colab": {
      "name": "Copy of Untitled5.ipynb",
      "provenance": [],
      "authorship_tag": "ABX9TyOQYhsByhRt9zgi4Htndr4J",
      "include_colab_link": true
    },
    "kernelspec": {
      "name": "python3",
      "display_name": "Python 3"
    },
    "language_info": {
      "name": "python"
    }
  },
  "cells": [
    {
      "cell_type": "markdown",
      "metadata": {
        "id": "view-in-github",
        "colab_type": "text"
      },
      "source": [
        "<a href=\"https://colab.research.google.com/github/everythingcanbedone/everythingcanbedone/blob/main/Go_digital_assignment.ipynb\" target=\"_parent\"><img src=\"https://colab.research.google.com/assets/colab-badge.svg\" alt=\"Open In Colab\"/></a>"
      ]
    },
    {
      "cell_type": "code",
      "source": [
        "import pandas as pd\n",
        "import numpy as np"
      ],
      "metadata": {
        "id": "FmGdNC-VZk0x"
      },
      "execution_count": null,
      "outputs": []
    },
    {
      "cell_type": "code",
      "execution_count": null,
      "metadata": {
        "id": "wnt3wskRZXls"
      },
      "outputs": [],
      "source": [
        "insurance_data=pd.read_csv('insurance_data.csv')\n",
        "employee_data=pd.read_csv('employee_data.csv')\n",
        "vendor_data=pd.read_csv('vendor_data.csv')"
      ]
    },
    {
      "cell_type": "markdown",
      "source": [
        "Task # 1\n",
        "\n",
        "Merge the 3 dataset and create 1 view of data.\n",
        "You can merge insurance_data.csv and employee_data.csv on\n",
        "AGENT_ID You can merge insurance_data.csv and vendor_data.csv on\n",
        "VENDOR_ID Note: Use left Outer join as not all claims require Vendor"
      ],
      "metadata": {
        "id": "JiqmFySUZ4T4"
      }
    },
    {
      "cell_type": "code",
      "source": [
        "output=pd.merge(insurance_data,employee_data,on='AGENT_ID',how='left',suffixes=('_CUSTOMER','_AGENT'))\n",
        "Task1=pd.merge(output,vendor_data,on='VENDOR_ID',how='left')"
      ],
      "metadata": {
        "id": "SA5HcqkBZpIj"
      },
      "execution_count": null,
      "outputs": []
    },
    {
      "cell_type": "code",
      "source": [
        "Task1"
      ],
      "metadata": {
        "colab": {
          "base_uri": "https://localhost:8080/",
          "height": 748
        },
        "id": "-i0Bnff2aRNC",
        "outputId": "832395cf-f297-4a2b-9279-5cadbb10a324"
      },
      "execution_count": null,
      "outputs": [
        {
          "output_type": "execute_result",
          "data": {
            "text/plain": [
              "            TXN_DATE_TIME TRANSACTION_ID CUSTOMER_ID POLICY_NUMBER  \\\n",
              "0     2020-06-01 00:00:00    TXN00000001   A00003822   PLC00008468   \n",
              "1     2020-06-01 00:00:00    TXN00000002   A00008149   PLC00009594   \n",
              "2     2020-06-01 00:00:00    TXN00000003   A00003172   PLC00007969   \n",
              "3     2020-06-01 00:00:00    TXN00000004   A00007572   PLC00009292   \n",
              "4     2020-06-01 00:00:00    TXN00000005   A00008173   PLC00000204   \n",
              "...                   ...            ...         ...           ...   \n",
              "9995  2021-06-30 00:00:00    TXN00009996   A00006029   PLC00007245   \n",
              "9996  2021-06-30 00:00:00    TXN00009997   A00003555   PLC00002590   \n",
              "9997  2021-06-30 00:00:00    TXN00009998   A00004230   PLC00006613   \n",
              "9998  2021-06-30 00:00:00    TXN00009999   A00006694   PLC00001781   \n",
              "9999  2021-06-30 00:00:00    TXN00010000   A00000390   PLC00005197   \n",
              "\n",
              "     POLICY_EFF_DT     LOSS_DT   REPORT_DT INSURANCE_TYPE  PREMIUM_AMOUNT  \\\n",
              "0       2015-06-23  2020-05-16  2020-05-21         Health          157.13   \n",
              "1       2018-04-21  2020-05-13  2020-05-18       Property          141.71   \n",
              "2       2019-10-03  2020-05-21  2020-05-26       Property          157.24   \n",
              "3       2016-11-29  2020-05-14  2020-05-19         Health          172.87   \n",
              "4       2011-12-26  2020-05-17  2020-05-22         Travel           88.53   \n",
              "...            ...         ...         ...            ...             ...   \n",
              "9995    2014-04-11  2021-06-25  2021-06-26          Motor          105.75   \n",
              "9996    2015-08-25  2021-06-12  2021-06-17           Life           64.59   \n",
              "9997    2018-10-11  2021-06-18  2021-06-23         Health          183.50   \n",
              "9998    2016-01-29  2021-06-16  2021-06-21          Motor          113.46   \n",
              "9999    2014-09-17  2021-06-21  2021-06-24         Mobile            8.22   \n",
              "\n",
              "      CLAIM_AMOUNT  ... STATE_AGENT POSTAL_CODE_AGENT EMP_ROUTING_NUMBER  \\\n",
              "0             9000  ...          TN             37217           35441155   \n",
              "1            26000  ...          AZ             85301           44055451   \n",
              "2            13000  ...          AL             36105           55770246   \n",
              "3            16000  ...          OK             73071           87652976   \n",
              "4             3000  ...          MD             21061           76119019   \n",
              "...            ...  ...         ...               ...                ...   \n",
              "9995          1000  ...          AR             72703           35413882   \n",
              "9996         67000  ...          GA             31405           91206790   \n",
              "9997          8000  ...          KY             40272          115241097   \n",
              "9998          2000  ...          AR             72703           13995380   \n",
              "9999           300  ...          OK             73003           39790996   \n",
              "\n",
              "         EMP_ACCT_NUMBER                       VENDOR_NAME  \\\n",
              "0     LRZO53254369804934                        Ramsey Inc   \n",
              "1     XBYG14382904542874  Morales, Campbell and Washington   \n",
              "2     WRXH14597428306333                       Johnson Ltd   \n",
              "3     YEPN16077902472499                  Blackwell-Foster   \n",
              "4     HZBK86544578578547                       Evans-Scott   \n",
              "...                  ...                               ...   \n",
              "9995  LFOJ76068590051807                               NaN   \n",
              "9996  AHEF60771774635030          Newton, Hodges and Henry   \n",
              "9997  WREH18805592939657                    Reese-Mckinney   \n",
              "9998  AAZI21883736448048       Harmon, Manning and Bradley   \n",
              "9999  RPES05613584687957                    Foster-Sanchez   \n",
              "\n",
              "                  ADDRESS_LINE1 ADDRESS_LINE2          CITY  STATE  \\\n",
              "0          3114 West 20th Court           NaN   Panama City     FL   \n",
              "1         42 West Louise Street             B  Fayetteville     AR   \n",
              "2       2619 North Quality Lane          #315  Fayetteville     AR   \n",
              "3             3609 Meadow Drive           NaN     Nashville     TN   \n",
              "4     4001 19th Place Northeast           NaN    Washington     DC   \n",
              "...                         ...           ...           ...    ...   \n",
              "9995                        NaN           NaN           NaN    NaN   \n",
              "9996      32512 Christine Drive           NaN    Union City     CA   \n",
              "9997         20 Garfield Street           NaN       Needham     MA   \n",
              "9998           1823 Dinger Road           NaN     Annapolis     MD   \n",
              "9999        4255 Tanager Common           NaN       Fremont     CA   \n",
              "\n",
              "      POSTAL_CODE  \n",
              "0         32405.0  \n",
              "1         72701.0  \n",
              "2         72703.0  \n",
              "3         37215.0  \n",
              "4         20018.0  \n",
              "...           ...  \n",
              "9995          NaN  \n",
              "9996      94587.0  \n",
              "9997       2492.0  \n",
              "9998      21402.0  \n",
              "9999      94555.0  \n",
              "\n",
              "[10000 rows x 53 columns]"
            ],
            "text/html": [
              "\n",
              "  <div id=\"df-0f1d9ab7-1b2b-4fc7-bd09-94122c4c270b\">\n",
              "    <div class=\"colab-df-container\">\n",
              "      <div>\n",
              "<style scoped>\n",
              "    .dataframe tbody tr th:only-of-type {\n",
              "        vertical-align: middle;\n",
              "    }\n",
              "\n",
              "    .dataframe tbody tr th {\n",
              "        vertical-align: top;\n",
              "    }\n",
              "\n",
              "    .dataframe thead th {\n",
              "        text-align: right;\n",
              "    }\n",
              "</style>\n",
              "<table border=\"1\" class=\"dataframe\">\n",
              "  <thead>\n",
              "    <tr style=\"text-align: right;\">\n",
              "      <th></th>\n",
              "      <th>TXN_DATE_TIME</th>\n",
              "      <th>TRANSACTION_ID</th>\n",
              "      <th>CUSTOMER_ID</th>\n",
              "      <th>POLICY_NUMBER</th>\n",
              "      <th>POLICY_EFF_DT</th>\n",
              "      <th>LOSS_DT</th>\n",
              "      <th>REPORT_DT</th>\n",
              "      <th>INSURANCE_TYPE</th>\n",
              "      <th>PREMIUM_AMOUNT</th>\n",
              "      <th>CLAIM_AMOUNT</th>\n",
              "      <th>...</th>\n",
              "      <th>STATE_AGENT</th>\n",
              "      <th>POSTAL_CODE_AGENT</th>\n",
              "      <th>EMP_ROUTING_NUMBER</th>\n",
              "      <th>EMP_ACCT_NUMBER</th>\n",
              "      <th>VENDOR_NAME</th>\n",
              "      <th>ADDRESS_LINE1</th>\n",
              "      <th>ADDRESS_LINE2</th>\n",
              "      <th>CITY</th>\n",
              "      <th>STATE</th>\n",
              "      <th>POSTAL_CODE</th>\n",
              "    </tr>\n",
              "  </thead>\n",
              "  <tbody>\n",
              "    <tr>\n",
              "      <th>0</th>\n",
              "      <td>2020-06-01 00:00:00</td>\n",
              "      <td>TXN00000001</td>\n",
              "      <td>A00003822</td>\n",
              "      <td>PLC00008468</td>\n",
              "      <td>2015-06-23</td>\n",
              "      <td>2020-05-16</td>\n",
              "      <td>2020-05-21</td>\n",
              "      <td>Health</td>\n",
              "      <td>157.13</td>\n",
              "      <td>9000</td>\n",
              "      <td>...</td>\n",
              "      <td>TN</td>\n",
              "      <td>37217</td>\n",
              "      <td>35441155</td>\n",
              "      <td>LRZO53254369804934</td>\n",
              "      <td>Ramsey Inc</td>\n",
              "      <td>3114 West 20th Court</td>\n",
              "      <td>NaN</td>\n",
              "      <td>Panama City</td>\n",
              "      <td>FL</td>\n",
              "      <td>32405.0</td>\n",
              "    </tr>\n",
              "    <tr>\n",
              "      <th>1</th>\n",
              "      <td>2020-06-01 00:00:00</td>\n",
              "      <td>TXN00000002</td>\n",
              "      <td>A00008149</td>\n",
              "      <td>PLC00009594</td>\n",
              "      <td>2018-04-21</td>\n",
              "      <td>2020-05-13</td>\n",
              "      <td>2020-05-18</td>\n",
              "      <td>Property</td>\n",
              "      <td>141.71</td>\n",
              "      <td>26000</td>\n",
              "      <td>...</td>\n",
              "      <td>AZ</td>\n",
              "      <td>85301</td>\n",
              "      <td>44055451</td>\n",
              "      <td>XBYG14382904542874</td>\n",
              "      <td>Morales, Campbell and Washington</td>\n",
              "      <td>42 West Louise Street</td>\n",
              "      <td>B</td>\n",
              "      <td>Fayetteville</td>\n",
              "      <td>AR</td>\n",
              "      <td>72701.0</td>\n",
              "    </tr>\n",
              "    <tr>\n",
              "      <th>2</th>\n",
              "      <td>2020-06-01 00:00:00</td>\n",
              "      <td>TXN00000003</td>\n",
              "      <td>A00003172</td>\n",
              "      <td>PLC00007969</td>\n",
              "      <td>2019-10-03</td>\n",
              "      <td>2020-05-21</td>\n",
              "      <td>2020-05-26</td>\n",
              "      <td>Property</td>\n",
              "      <td>157.24</td>\n",
              "      <td>13000</td>\n",
              "      <td>...</td>\n",
              "      <td>AL</td>\n",
              "      <td>36105</td>\n",
              "      <td>55770246</td>\n",
              "      <td>WRXH14597428306333</td>\n",
              "      <td>Johnson Ltd</td>\n",
              "      <td>2619 North Quality Lane</td>\n",
              "      <td>#315</td>\n",
              "      <td>Fayetteville</td>\n",
              "      <td>AR</td>\n",
              "      <td>72703.0</td>\n",
              "    </tr>\n",
              "    <tr>\n",
              "      <th>3</th>\n",
              "      <td>2020-06-01 00:00:00</td>\n",
              "      <td>TXN00000004</td>\n",
              "      <td>A00007572</td>\n",
              "      <td>PLC00009292</td>\n",
              "      <td>2016-11-29</td>\n",
              "      <td>2020-05-14</td>\n",
              "      <td>2020-05-19</td>\n",
              "      <td>Health</td>\n",
              "      <td>172.87</td>\n",
              "      <td>16000</td>\n",
              "      <td>...</td>\n",
              "      <td>OK</td>\n",
              "      <td>73071</td>\n",
              "      <td>87652976</td>\n",
              "      <td>YEPN16077902472499</td>\n",
              "      <td>Blackwell-Foster</td>\n",
              "      <td>3609 Meadow Drive</td>\n",
              "      <td>NaN</td>\n",
              "      <td>Nashville</td>\n",
              "      <td>TN</td>\n",
              "      <td>37215.0</td>\n",
              "    </tr>\n",
              "    <tr>\n",
              "      <th>4</th>\n",
              "      <td>2020-06-01 00:00:00</td>\n",
              "      <td>TXN00000005</td>\n",
              "      <td>A00008173</td>\n",
              "      <td>PLC00000204</td>\n",
              "      <td>2011-12-26</td>\n",
              "      <td>2020-05-17</td>\n",
              "      <td>2020-05-22</td>\n",
              "      <td>Travel</td>\n",
              "      <td>88.53</td>\n",
              "      <td>3000</td>\n",
              "      <td>...</td>\n",
              "      <td>MD</td>\n",
              "      <td>21061</td>\n",
              "      <td>76119019</td>\n",
              "      <td>HZBK86544578578547</td>\n",
              "      <td>Evans-Scott</td>\n",
              "      <td>4001 19th Place Northeast</td>\n",
              "      <td>NaN</td>\n",
              "      <td>Washington</td>\n",
              "      <td>DC</td>\n",
              "      <td>20018.0</td>\n",
              "    </tr>\n",
              "    <tr>\n",
              "      <th>...</th>\n",
              "      <td>...</td>\n",
              "      <td>...</td>\n",
              "      <td>...</td>\n",
              "      <td>...</td>\n",
              "      <td>...</td>\n",
              "      <td>...</td>\n",
              "      <td>...</td>\n",
              "      <td>...</td>\n",
              "      <td>...</td>\n",
              "      <td>...</td>\n",
              "      <td>...</td>\n",
              "      <td>...</td>\n",
              "      <td>...</td>\n",
              "      <td>...</td>\n",
              "      <td>...</td>\n",
              "      <td>...</td>\n",
              "      <td>...</td>\n",
              "      <td>...</td>\n",
              "      <td>...</td>\n",
              "      <td>...</td>\n",
              "      <td>...</td>\n",
              "    </tr>\n",
              "    <tr>\n",
              "      <th>9995</th>\n",
              "      <td>2021-06-30 00:00:00</td>\n",
              "      <td>TXN00009996</td>\n",
              "      <td>A00006029</td>\n",
              "      <td>PLC00007245</td>\n",
              "      <td>2014-04-11</td>\n",
              "      <td>2021-06-25</td>\n",
              "      <td>2021-06-26</td>\n",
              "      <td>Motor</td>\n",
              "      <td>105.75</td>\n",
              "      <td>1000</td>\n",
              "      <td>...</td>\n",
              "      <td>AR</td>\n",
              "      <td>72703</td>\n",
              "      <td>35413882</td>\n",
              "      <td>LFOJ76068590051807</td>\n",
              "      <td>NaN</td>\n",
              "      <td>NaN</td>\n",
              "      <td>NaN</td>\n",
              "      <td>NaN</td>\n",
              "      <td>NaN</td>\n",
              "      <td>NaN</td>\n",
              "    </tr>\n",
              "    <tr>\n",
              "      <th>9996</th>\n",
              "      <td>2021-06-30 00:00:00</td>\n",
              "      <td>TXN00009997</td>\n",
              "      <td>A00003555</td>\n",
              "      <td>PLC00002590</td>\n",
              "      <td>2015-08-25</td>\n",
              "      <td>2021-06-12</td>\n",
              "      <td>2021-06-17</td>\n",
              "      <td>Life</td>\n",
              "      <td>64.59</td>\n",
              "      <td>67000</td>\n",
              "      <td>...</td>\n",
              "      <td>GA</td>\n",
              "      <td>31405</td>\n",
              "      <td>91206790</td>\n",
              "      <td>AHEF60771774635030</td>\n",
              "      <td>Newton, Hodges and Henry</td>\n",
              "      <td>32512 Christine Drive</td>\n",
              "      <td>NaN</td>\n",
              "      <td>Union City</td>\n",
              "      <td>CA</td>\n",
              "      <td>94587.0</td>\n",
              "    </tr>\n",
              "    <tr>\n",
              "      <th>9997</th>\n",
              "      <td>2021-06-30 00:00:00</td>\n",
              "      <td>TXN00009998</td>\n",
              "      <td>A00004230</td>\n",
              "      <td>PLC00006613</td>\n",
              "      <td>2018-10-11</td>\n",
              "      <td>2021-06-18</td>\n",
              "      <td>2021-06-23</td>\n",
              "      <td>Health</td>\n",
              "      <td>183.50</td>\n",
              "      <td>8000</td>\n",
              "      <td>...</td>\n",
              "      <td>KY</td>\n",
              "      <td>40272</td>\n",
              "      <td>115241097</td>\n",
              "      <td>WREH18805592939657</td>\n",
              "      <td>Reese-Mckinney</td>\n",
              "      <td>20 Garfield Street</td>\n",
              "      <td>NaN</td>\n",
              "      <td>Needham</td>\n",
              "      <td>MA</td>\n",
              "      <td>2492.0</td>\n",
              "    </tr>\n",
              "    <tr>\n",
              "      <th>9998</th>\n",
              "      <td>2021-06-30 00:00:00</td>\n",
              "      <td>TXN00009999</td>\n",
              "      <td>A00006694</td>\n",
              "      <td>PLC00001781</td>\n",
              "      <td>2016-01-29</td>\n",
              "      <td>2021-06-16</td>\n",
              "      <td>2021-06-21</td>\n",
              "      <td>Motor</td>\n",
              "      <td>113.46</td>\n",
              "      <td>2000</td>\n",
              "      <td>...</td>\n",
              "      <td>AR</td>\n",
              "      <td>72703</td>\n",
              "      <td>13995380</td>\n",
              "      <td>AAZI21883736448048</td>\n",
              "      <td>Harmon, Manning and Bradley</td>\n",
              "      <td>1823 Dinger Road</td>\n",
              "      <td>NaN</td>\n",
              "      <td>Annapolis</td>\n",
              "      <td>MD</td>\n",
              "      <td>21402.0</td>\n",
              "    </tr>\n",
              "    <tr>\n",
              "      <th>9999</th>\n",
              "      <td>2021-06-30 00:00:00</td>\n",
              "      <td>TXN00010000</td>\n",
              "      <td>A00000390</td>\n",
              "      <td>PLC00005197</td>\n",
              "      <td>2014-09-17</td>\n",
              "      <td>2021-06-21</td>\n",
              "      <td>2021-06-24</td>\n",
              "      <td>Mobile</td>\n",
              "      <td>8.22</td>\n",
              "      <td>300</td>\n",
              "      <td>...</td>\n",
              "      <td>OK</td>\n",
              "      <td>73003</td>\n",
              "      <td>39790996</td>\n",
              "      <td>RPES05613584687957</td>\n",
              "      <td>Foster-Sanchez</td>\n",
              "      <td>4255 Tanager Common</td>\n",
              "      <td>NaN</td>\n",
              "      <td>Fremont</td>\n",
              "      <td>CA</td>\n",
              "      <td>94555.0</td>\n",
              "    </tr>\n",
              "  </tbody>\n",
              "</table>\n",
              "<p>10000 rows × 53 columns</p>\n",
              "</div>\n",
              "      <button class=\"colab-df-convert\" onclick=\"convertToInteractive('df-0f1d9ab7-1b2b-4fc7-bd09-94122c4c270b')\"\n",
              "              title=\"Convert this dataframe to an interactive table.\"\n",
              "              style=\"display:none;\">\n",
              "        \n",
              "  <svg xmlns=\"http://www.w3.org/2000/svg\" height=\"24px\"viewBox=\"0 0 24 24\"\n",
              "       width=\"24px\">\n",
              "    <path d=\"M0 0h24v24H0V0z\" fill=\"none\"/>\n",
              "    <path d=\"M18.56 5.44l.94 2.06.94-2.06 2.06-.94-2.06-.94-.94-2.06-.94 2.06-2.06.94zm-11 1L8.5 8.5l.94-2.06 2.06-.94-2.06-.94L8.5 2.5l-.94 2.06-2.06.94zm10 10l.94 2.06.94-2.06 2.06-.94-2.06-.94-.94-2.06-.94 2.06-2.06.94z\"/><path d=\"M17.41 7.96l-1.37-1.37c-.4-.4-.92-.59-1.43-.59-.52 0-1.04.2-1.43.59L10.3 9.45l-7.72 7.72c-.78.78-.78 2.05 0 2.83L4 21.41c.39.39.9.59 1.41.59.51 0 1.02-.2 1.41-.59l7.78-7.78 2.81-2.81c.8-.78.8-2.07 0-2.86zM5.41 20L4 18.59l7.72-7.72 1.47 1.35L5.41 20z\"/>\n",
              "  </svg>\n",
              "      </button>\n",
              "      \n",
              "  <style>\n",
              "    .colab-df-container {\n",
              "      display:flex;\n",
              "      flex-wrap:wrap;\n",
              "      gap: 12px;\n",
              "    }\n",
              "\n",
              "    .colab-df-convert {\n",
              "      background-color: #E8F0FE;\n",
              "      border: none;\n",
              "      border-radius: 50%;\n",
              "      cursor: pointer;\n",
              "      display: none;\n",
              "      fill: #1967D2;\n",
              "      height: 32px;\n",
              "      padding: 0 0 0 0;\n",
              "      width: 32px;\n",
              "    }\n",
              "\n",
              "    .colab-df-convert:hover {\n",
              "      background-color: #E2EBFA;\n",
              "      box-shadow: 0px 1px 2px rgba(60, 64, 67, 0.3), 0px 1px 3px 1px rgba(60, 64, 67, 0.15);\n",
              "      fill: #174EA6;\n",
              "    }\n",
              "\n",
              "    [theme=dark] .colab-df-convert {\n",
              "      background-color: #3B4455;\n",
              "      fill: #D2E3FC;\n",
              "    }\n",
              "\n",
              "    [theme=dark] .colab-df-convert:hover {\n",
              "      background-color: #434B5C;\n",
              "      box-shadow: 0px 1px 3px 1px rgba(0, 0, 0, 0.15);\n",
              "      filter: drop-shadow(0px 1px 2px rgba(0, 0, 0, 0.3));\n",
              "      fill: #FFFFFF;\n",
              "    }\n",
              "  </style>\n",
              "\n",
              "      <script>\n",
              "        const buttonEl =\n",
              "          document.querySelector('#df-0f1d9ab7-1b2b-4fc7-bd09-94122c4c270b button.colab-df-convert');\n",
              "        buttonEl.style.display =\n",
              "          google.colab.kernel.accessAllowed ? 'block' : 'none';\n",
              "\n",
              "        async function convertToInteractive(key) {\n",
              "          const element = document.querySelector('#df-0f1d9ab7-1b2b-4fc7-bd09-94122c4c270b');\n",
              "          const dataTable =\n",
              "            await google.colab.kernel.invokeFunction('convertToInteractive',\n",
              "                                                     [key], {});\n",
              "          if (!dataTable) return;\n",
              "\n",
              "          const docLinkHtml = 'Like what you see? Visit the ' +\n",
              "            '<a target=\"_blank\" href=https://colab.research.google.com/notebooks/data_table.ipynb>data table notebook</a>'\n",
              "            + ' to learn more about interactive tables.';\n",
              "          element.innerHTML = '';\n",
              "          dataTable['output_type'] = 'display_data';\n",
              "          await google.colab.output.renderOutput(dataTable, element);\n",
              "          const docLink = document.createElement('div');\n",
              "          docLink.innerHTML = docLinkHtml;\n",
              "          element.appendChild(docLink);\n",
              "        }\n",
              "      </script>\n",
              "    </div>\n",
              "  </div>\n",
              "  "
            ]
          },
          "metadata": {},
          "execution_count": 114
        }
      ]
    },
    {
      "cell_type": "markdown",
      "source": [
        "Task #2\n",
        "\n",
        "\n",
        "Business Leader wants to find Top 3 Insurance Type where we are getting\n",
        "most insurance claims?"
      ],
      "metadata": {
        "id": "7MP1KGNmaiM2"
      }
    },
    {
      "cell_type": "code",
      "source": [
        "insurance_data.INSURANCE_TYPE.value_counts()[:3]"
      ],
      "metadata": {
        "colab": {
          "base_uri": "https://localhost:8080/"
        },
        "id": "o3V0ZV58ahiv",
        "outputId": "85b88735-d1cb-4d78-b140-117fa8f93b65"
      },
      "execution_count": null,
      "outputs": [
        {
          "output_type": "execute_result",
          "data": {
            "text/plain": [
              "Property    1692\n",
              "Mobile      1692\n",
              "Health      1690\n",
              "Name: INSURANCE_TYPE, dtype: int64"
            ]
          },
          "metadata": {},
          "execution_count": 115
        }
      ]
    },
    {
      "cell_type": "markdown",
      "source": [
        "Top 3 Insurance Type which are getting most insurance claims are\n",
        "\n",
        "Mobile with 1692 claims\n",
        "\n",
        "Property with 1692 claims\n",
        "\n",
        "Heath with 1690 claims"
      ],
      "metadata": {
        "id": "acTNwXo9a93Y"
      }
    },
    {
      "cell_type": "markdown",
      "source": [
        "Task #3\n",
        "\n",
        "Business Leader wants to find Top 5 States where we are getting most insurance claims\n",
        "for customer belonging to HIGH(H) risk segment?"
      ],
      "metadata": {
        "id": "yPYoYbT8byOV"
      }
    },
    {
      "cell_type": "code",
      "source": [
        "data = insurance_data['RISK_SEGMENTATION'] == \"H\"\n",
        "insurance_data[data][\"STATE\"].value_counts()[:5]"
      ],
      "metadata": {
        "colab": {
          "base_uri": "https://localhost:8080/"
        },
        "id": "Ukn6kQlzbuKT",
        "outputId": "23fd83c3-1170-47fe-a1e5-49e299733250"
      },
      "execution_count": null,
      "outputs": [
        {
          "output_type": "execute_result",
          "data": {
            "text/plain": [
              "CA    148\n",
              "AZ    105\n",
              "FL    104\n",
              "TN    100\n",
              "AR     97\n",
              "Name: STATE, dtype: int64"
            ]
          },
          "metadata": {},
          "execution_count": 116
        }
      ]
    },
    {
      "cell_type": "markdown",
      "source": [
        "Top 5 States where we are getting most insurance claims for customers belonging to HIGH(H) risk segment are\n",
        "\n",
        "    CA with 148 claims\n",
        "    AZ with 105 claims\n",
        "    FL with 104 claims\n",
        "    TN with 100 claims\n",
        "    AR with 97 claims\n",
        "\n"
      ],
      "metadata": {
        "id": "LHkvuXysc0CS"
      }
    },
    {
      "cell_type": "markdown",
      "source": [
        "Task #4\n",
        "\n",
        "Business wants to create a new variable “COLOCATION” which will have following values IF\n",
        "Customer State == Incident State == Agent Address State THEN 1 ELSE 0\n",
        "Find the mean of this new column"
      ],
      "metadata": {
        "id": "becrIo5tdU0D"
      }
    },
    {
      "cell_type": "code",
      "source": [
        "Task1.columns"
      ],
      "metadata": {
        "colab": {
          "base_uri": "https://localhost:8080/"
        },
        "id": "4h6L3v0neW0V",
        "outputId": "3029efd0-71bd-45f7-d081-0cbfcbe1b9f8"
      },
      "execution_count": null,
      "outputs": [
        {
          "output_type": "execute_result",
          "data": {
            "text/plain": [
              "Index(['TXN_DATE_TIME', 'TRANSACTION_ID', 'CUSTOMER_ID', 'POLICY_NUMBER',\n",
              "       'POLICY_EFF_DT', 'LOSS_DT', 'REPORT_DT', 'INSURANCE_TYPE',\n",
              "       'PREMIUM_AMOUNT', 'CLAIM_AMOUNT', 'CUSTOMER_NAME',\n",
              "       'ADDRESS_LINE1_CUSTOMER', 'ADDRESS_LINE2_CUSTOMER', 'CITY_CUSTOMER',\n",
              "       'STATE_CUSTOMER', 'POSTAL_CODE_CUSTOMER', 'SSN', 'MARITAL_STATUS',\n",
              "       'AGE', 'TENURE', 'EMPLOYMENT_STATUS', 'NO_OF_FAMILY_MEMBERS',\n",
              "       'RISK_SEGMENTATION', 'HOUSE_TYPE', 'SOCIAL_CLASS', 'ROUTING_NUMBER',\n",
              "       'ACCT_NUMBER', 'CUSTOMER_EDUCATION_LEVEL', 'CLAIM_STATUS',\n",
              "       'INCIDENT_SEVERITY', 'AUTHORITY_CONTACTED', 'ANY_INJURY',\n",
              "       'POLICE_REPORT_AVAILABLE', 'INCIDENT_STATE', 'INCIDENT_CITY',\n",
              "       'INCIDENT_HOUR_OF_THE_DAY', 'AGENT_ID', 'VENDOR_ID', 'AGENT_NAME',\n",
              "       'DATE_OF_JOINING', 'ADDRESS_LINE1_AGENT', 'ADDRESS_LINE2_AGENT',\n",
              "       'CITY_AGENT', 'STATE_AGENT', 'POSTAL_CODE_AGENT', 'EMP_ROUTING_NUMBER',\n",
              "       'EMP_ACCT_NUMBER', 'VENDOR_NAME', 'ADDRESS_LINE1', 'ADDRESS_LINE2',\n",
              "       'CITY', 'STATE', 'POSTAL_CODE'],\n",
              "      dtype='object')"
            ]
          },
          "metadata": {},
          "execution_count": 117
        }
      ]
    },
    {
      "cell_type": "code",
      "source": [
        "def categorise(Task1):  \n",
        "    if ((Task1['INCIDENT_STATE']) == (Task1[\"STATE_AGENT\"]))  and  ((Task1[\"STATE_AGENT\"]) == (Task1[\"STATE_CUSTOMER\"])):\n",
        "      val=1\n",
        "    else:\n",
        "      val=  0\n",
        "    return val"
      ],
      "metadata": {
        "id": "M56Dpur9dTqB"
      },
      "execution_count": null,
      "outputs": []
    },
    {
      "cell_type": "code",
      "source": [
        "Task1['COLOCATION'] = Task1.apply(categorise, axis=1)"
      ],
      "metadata": {
        "id": "QCetYyOFfSrf"
      },
      "execution_count": null,
      "outputs": []
    },
    {
      "cell_type": "code",
      "source": [
        "Task1[\"COLOCATION\"].value_counts()"
      ],
      "metadata": {
        "colab": {
          "base_uri": "https://localhost:8080/"
        },
        "id": "mjUHvhZQfVee",
        "outputId": "2581a3ef-a007-464b-ecf1-08d6204fcc77"
      },
      "execution_count": null,
      "outputs": [
        {
          "output_type": "execute_result",
          "data": {
            "text/plain": [
              "0    9956\n",
              "1      44\n",
              "Name: COLOCATION, dtype: int64"
            ]
          },
          "metadata": {},
          "execution_count": 120
        }
      ]
    },
    {
      "cell_type": "code",
      "source": [
        "Task1['COLOCATION'].mean()"
      ],
      "metadata": {
        "colab": {
          "base_uri": "https://localhost:8080/"
        },
        "id": "6qKibSyXfXxh",
        "outputId": "1788339f-d948-4dc3-cd08-0f9122100e0e"
      },
      "execution_count": null,
      "outputs": [
        {
          "output_type": "execute_result",
          "data": {
            "text/plain": [
              "0.0044"
            ]
          },
          "metadata": {},
          "execution_count": 121
        }
      ]
    },
    {
      "cell_type": "markdown",
      "source": [
        "Mean of Colocation column is 00.44"
      ],
      "metadata": {
        "id": "jlvjyvkSfGHx"
      }
    },
    {
      "cell_type": "markdown",
      "source": [
        "Task #5\n",
        "\n",
        "Data entry error was detected in the data and you are required to correct it. If for any\n",
        "claim transaction “AUTHORITY_CONTACTED” is NOT “Police” and POLICE_AVAILABLE == 1\n",
        "Then Update “AUTHORITY_CONTACTED” to Police.\n"
      ],
      "metadata": {
        "id": "1h4ruKolfawS"
      }
    },
    {
      "cell_type": "code",
      "source": [
        "Task1.columns"
      ],
      "metadata": {
        "colab": {
          "base_uri": "https://localhost:8080/"
        },
        "id": "9Zfxj4GugHmK",
        "outputId": "bede4f92-67a5-49fe-84a3-12a52c94838c"
      },
      "execution_count": null,
      "outputs": [
        {
          "output_type": "execute_result",
          "data": {
            "text/plain": [
              "Index(['TXN_DATE_TIME', 'TRANSACTION_ID', 'CUSTOMER_ID', 'POLICY_NUMBER',\n",
              "       'POLICY_EFF_DT', 'LOSS_DT', 'REPORT_DT', 'INSURANCE_TYPE',\n",
              "       'PREMIUM_AMOUNT', 'CLAIM_AMOUNT', 'CUSTOMER_NAME',\n",
              "       'ADDRESS_LINE1_CUSTOMER', 'ADDRESS_LINE2_CUSTOMER', 'CITY_CUSTOMER',\n",
              "       'STATE_CUSTOMER', 'POSTAL_CODE_CUSTOMER', 'SSN', 'MARITAL_STATUS',\n",
              "       'AGE', 'TENURE', 'EMPLOYMENT_STATUS', 'NO_OF_FAMILY_MEMBERS',\n",
              "       'RISK_SEGMENTATION', 'HOUSE_TYPE', 'SOCIAL_CLASS', 'ROUTING_NUMBER',\n",
              "       'ACCT_NUMBER', 'CUSTOMER_EDUCATION_LEVEL', 'CLAIM_STATUS',\n",
              "       'INCIDENT_SEVERITY', 'AUTHORITY_CONTACTED', 'ANY_INJURY',\n",
              "       'POLICE_REPORT_AVAILABLE', 'INCIDENT_STATE', 'INCIDENT_CITY',\n",
              "       'INCIDENT_HOUR_OF_THE_DAY', 'AGENT_ID', 'VENDOR_ID', 'AGENT_NAME',\n",
              "       'DATE_OF_JOINING', 'ADDRESS_LINE1_AGENT', 'ADDRESS_LINE2_AGENT',\n",
              "       'CITY_AGENT', 'STATE_AGENT', 'POSTAL_CODE_AGENT', 'EMP_ROUTING_NUMBER',\n",
              "       'EMP_ACCT_NUMBER', 'VENDOR_NAME', 'ADDRESS_LINE1', 'ADDRESS_LINE2',\n",
              "       'CITY', 'STATE', 'POSTAL_CODE', 'COLOCATION'],\n",
              "      dtype='object')"
            ]
          },
          "metadata": {},
          "execution_count": 122
        }
      ]
    },
    {
      "cell_type": "code",
      "source": [
        "Task1['AUTHORITY_CONTACTED'] = np.where(\n",
        "   (Task1['AUTHORITY_CONTACTED'] !=\"POLICE\") & (Task1['POLICE_REPORT_AVAILABLE'] ==1) ,\"Police\", Task1['AUTHORITY_CONTACTED']\n",
        "   )\n"
      ],
      "metadata": {
        "id": "2PMaKuwda9O9"
      },
      "execution_count": null,
      "outputs": []
    },
    {
      "cell_type": "code",
      "source": [
        "Task1[(Task1['POLICE_REPORT_AVAILABLE']==1)&(Task1['AUTHORITY_CONTACTED']!='Police')]"
      ],
      "metadata": {
        "colab": {
          "base_uri": "https://localhost:8080/",
          "height": 143
        },
        "id": "UET7I8tIaVur",
        "outputId": "cc175423-f10b-43f4-a67a-d19ad09119e4"
      },
      "execution_count": null,
      "outputs": [
        {
          "output_type": "execute_result",
          "data": {
            "text/plain": [
              "Empty DataFrame\n",
              "Columns: [TXN_DATE_TIME, TRANSACTION_ID, CUSTOMER_ID, POLICY_NUMBER, POLICY_EFF_DT, LOSS_DT, REPORT_DT, INSURANCE_TYPE, PREMIUM_AMOUNT, CLAIM_AMOUNT, CUSTOMER_NAME, ADDRESS_LINE1_CUSTOMER, ADDRESS_LINE2_CUSTOMER, CITY_CUSTOMER, STATE_CUSTOMER, POSTAL_CODE_CUSTOMER, SSN, MARITAL_STATUS, AGE, TENURE, EMPLOYMENT_STATUS, NO_OF_FAMILY_MEMBERS, RISK_SEGMENTATION, HOUSE_TYPE, SOCIAL_CLASS, ROUTING_NUMBER, ACCT_NUMBER, CUSTOMER_EDUCATION_LEVEL, CLAIM_STATUS, INCIDENT_SEVERITY, AUTHORITY_CONTACTED, ANY_INJURY, POLICE_REPORT_AVAILABLE, INCIDENT_STATE, INCIDENT_CITY, INCIDENT_HOUR_OF_THE_DAY, AGENT_ID, VENDOR_ID, AGENT_NAME, DATE_OF_JOINING, ADDRESS_LINE1_AGENT, ADDRESS_LINE2_AGENT, CITY_AGENT, STATE_AGENT, POSTAL_CODE_AGENT, EMP_ROUTING_NUMBER, EMP_ACCT_NUMBER, VENDOR_NAME, ADDRESS_LINE1, ADDRESS_LINE2, CITY, STATE, POSTAL_CODE, COLOCATION]\n",
              "Index: []\n",
              "\n",
              "[0 rows x 54 columns]"
            ],
            "text/html": [
              "\n",
              "  <div id=\"df-730accd4-519b-40c5-82fd-ee26b53cad91\">\n",
              "    <div class=\"colab-df-container\">\n",
              "      <div>\n",
              "<style scoped>\n",
              "    .dataframe tbody tr th:only-of-type {\n",
              "        vertical-align: middle;\n",
              "    }\n",
              "\n",
              "    .dataframe tbody tr th {\n",
              "        vertical-align: top;\n",
              "    }\n",
              "\n",
              "    .dataframe thead th {\n",
              "        text-align: right;\n",
              "    }\n",
              "</style>\n",
              "<table border=\"1\" class=\"dataframe\">\n",
              "  <thead>\n",
              "    <tr style=\"text-align: right;\">\n",
              "      <th></th>\n",
              "      <th>TXN_DATE_TIME</th>\n",
              "      <th>TRANSACTION_ID</th>\n",
              "      <th>CUSTOMER_ID</th>\n",
              "      <th>POLICY_NUMBER</th>\n",
              "      <th>POLICY_EFF_DT</th>\n",
              "      <th>LOSS_DT</th>\n",
              "      <th>REPORT_DT</th>\n",
              "      <th>INSURANCE_TYPE</th>\n",
              "      <th>PREMIUM_AMOUNT</th>\n",
              "      <th>CLAIM_AMOUNT</th>\n",
              "      <th>...</th>\n",
              "      <th>POSTAL_CODE_AGENT</th>\n",
              "      <th>EMP_ROUTING_NUMBER</th>\n",
              "      <th>EMP_ACCT_NUMBER</th>\n",
              "      <th>VENDOR_NAME</th>\n",
              "      <th>ADDRESS_LINE1</th>\n",
              "      <th>ADDRESS_LINE2</th>\n",
              "      <th>CITY</th>\n",
              "      <th>STATE</th>\n",
              "      <th>POSTAL_CODE</th>\n",
              "      <th>COLOCATION</th>\n",
              "    </tr>\n",
              "  </thead>\n",
              "  <tbody>\n",
              "  </tbody>\n",
              "</table>\n",
              "<p>0 rows × 54 columns</p>\n",
              "</div>\n",
              "      <button class=\"colab-df-convert\" onclick=\"convertToInteractive('df-730accd4-519b-40c5-82fd-ee26b53cad91')\"\n",
              "              title=\"Convert this dataframe to an interactive table.\"\n",
              "              style=\"display:none;\">\n",
              "        \n",
              "  <svg xmlns=\"http://www.w3.org/2000/svg\" height=\"24px\"viewBox=\"0 0 24 24\"\n",
              "       width=\"24px\">\n",
              "    <path d=\"M0 0h24v24H0V0z\" fill=\"none\"/>\n",
              "    <path d=\"M18.56 5.44l.94 2.06.94-2.06 2.06-.94-2.06-.94-.94-2.06-.94 2.06-2.06.94zm-11 1L8.5 8.5l.94-2.06 2.06-.94-2.06-.94L8.5 2.5l-.94 2.06-2.06.94zm10 10l.94 2.06.94-2.06 2.06-.94-2.06-.94-.94-2.06-.94 2.06-2.06.94z\"/><path d=\"M17.41 7.96l-1.37-1.37c-.4-.4-.92-.59-1.43-.59-.52 0-1.04.2-1.43.59L10.3 9.45l-7.72 7.72c-.78.78-.78 2.05 0 2.83L4 21.41c.39.39.9.59 1.41.59.51 0 1.02-.2 1.41-.59l7.78-7.78 2.81-2.81c.8-.78.8-2.07 0-2.86zM5.41 20L4 18.59l7.72-7.72 1.47 1.35L5.41 20z\"/>\n",
              "  </svg>\n",
              "      </button>\n",
              "      \n",
              "  <style>\n",
              "    .colab-df-container {\n",
              "      display:flex;\n",
              "      flex-wrap:wrap;\n",
              "      gap: 12px;\n",
              "    }\n",
              "\n",
              "    .colab-df-convert {\n",
              "      background-color: #E8F0FE;\n",
              "      border: none;\n",
              "      border-radius: 50%;\n",
              "      cursor: pointer;\n",
              "      display: none;\n",
              "      fill: #1967D2;\n",
              "      height: 32px;\n",
              "      padding: 0 0 0 0;\n",
              "      width: 32px;\n",
              "    }\n",
              "\n",
              "    .colab-df-convert:hover {\n",
              "      background-color: #E2EBFA;\n",
              "      box-shadow: 0px 1px 2px rgba(60, 64, 67, 0.3), 0px 1px 3px 1px rgba(60, 64, 67, 0.15);\n",
              "      fill: #174EA6;\n",
              "    }\n",
              "\n",
              "    [theme=dark] .colab-df-convert {\n",
              "      background-color: #3B4455;\n",
              "      fill: #D2E3FC;\n",
              "    }\n",
              "\n",
              "    [theme=dark] .colab-df-convert:hover {\n",
              "      background-color: #434B5C;\n",
              "      box-shadow: 0px 1px 3px 1px rgba(0, 0, 0, 0.15);\n",
              "      filter: drop-shadow(0px 1px 2px rgba(0, 0, 0, 0.3));\n",
              "      fill: #FFFFFF;\n",
              "    }\n",
              "  </style>\n",
              "\n",
              "      <script>\n",
              "        const buttonEl =\n",
              "          document.querySelector('#df-730accd4-519b-40c5-82fd-ee26b53cad91 button.colab-df-convert');\n",
              "        buttonEl.style.display =\n",
              "          google.colab.kernel.accessAllowed ? 'block' : 'none';\n",
              "\n",
              "        async function convertToInteractive(key) {\n",
              "          const element = document.querySelector('#df-730accd4-519b-40c5-82fd-ee26b53cad91');\n",
              "          const dataTable =\n",
              "            await google.colab.kernel.invokeFunction('convertToInteractive',\n",
              "                                                     [key], {});\n",
              "          if (!dataTable) return;\n",
              "\n",
              "          const docLinkHtml = 'Like what you see? Visit the ' +\n",
              "            '<a target=\"_blank\" href=https://colab.research.google.com/notebooks/data_table.ipynb>data table notebook</a>'\n",
              "            + ' to learn more about interactive tables.';\n",
              "          element.innerHTML = '';\n",
              "          dataTable['output_type'] = 'display_data';\n",
              "          await google.colab.output.renderOutput(dataTable, element);\n",
              "          const docLink = document.createElement('div');\n",
              "          docLink.innerHTML = docLinkHtml;\n",
              "          element.appendChild(docLink);\n",
              "        }\n",
              "      </script>\n",
              "    </div>\n",
              "  </div>\n",
              "  "
            ]
          },
          "metadata": {},
          "execution_count": 124
        }
      ]
    },
    {
      "cell_type": "code",
      "source": [
        "Task1[\"AUTHORITY_CONTACTED\"].value_counts()"
      ],
      "metadata": {
        "colab": {
          "base_uri": "https://localhost:8080/"
        },
        "id": "GatlJi1QgX3j",
        "outputId": "85fe79c9-7583-4abf-f3dd-e57134e6021f"
      },
      "execution_count": null,
      "outputs": [
        {
          "output_type": "execute_result",
          "data": {
            "text/plain": [
              "Police       7852\n",
              "Ambulance    1261\n",
              "None          578\n",
              "Other         309\n",
              "Name: AUTHORITY_CONTACTED, dtype: int64"
            ]
          },
          "metadata": {},
          "execution_count": 125
        }
      ]
    },
    {
      "cell_type": "markdown",
      "source": [
        "Task #6\n",
        "\n",
        "Business wants to check the Claim Amount for deviation for each transaction, they would\n",
        "like you to calculate as follow\n",
        "CLAIM_DEVIATION = AVG_CLAIM_AMOUNT_FOR_LAST_30DAYS (same insurance type)\n",
        "/ CURRENT_CLAIM_AMOUNT\n",
        "If the value < 0.5 THEN CLAIM_DEVIATION = 1 ELSE 0\n",
        "If there is less than 30 days of transaction history THEN\n",
        "-1 Note: LAST_30DAYS does not include current day"
      ],
      "metadata": {
        "id": "KTEKLNJ4hHNs"
      }
    },
    {
      "cell_type": "code",
      "source": [
        "Task1.TXN_DATE_TIME.max()"
      ],
      "metadata": {
        "colab": {
          "base_uri": "https://localhost:8080/",
          "height": 35
        },
        "id": "kW1MPq6LhFyt",
        "outputId": "994840f0-075b-4130-84a9-602e5b96e399"
      },
      "execution_count": null,
      "outputs": [
        {
          "output_type": "execute_result",
          "data": {
            "text/plain": [
              "'2021-06-30 00:00:00'"
            ],
            "application/vnd.google.colaboratory.intrinsic+json": {
              "type": "string"
            }
          },
          "metadata": {},
          "execution_count": 126
        }
      ]
    },
    {
      "cell_type": "code",
      "source": [
        "\n",
        "curr_date = pd.to_datetime('2021-06-30')\n",
        "Task1['TXN_DATE_TIME'] = pd.to_datetime(Task1['TXN_DATE_TIME'])\n",
        "last_30 = Task1.loc[(Task1['TXN_DATE_TIME'] > '2021-05-30') & (Task1['TXN_DATE_TIME'] < '2021-06-30')]  "
      ],
      "metadata": {
        "id": "uFIGld36hnnw"
      },
      "execution_count": null,
      "outputs": []
    },
    {
      "cell_type": "code",
      "source": [
        ""
      ],
      "metadata": {
        "id": "y1IGPyx9h6c4"
      },
      "execution_count": null,
      "outputs": []
    },
    {
      "cell_type": "code",
      "source": [
        "average_claim = last_30.groupby('INSURANCE_TYPE').mean()['CLAIM_AMOUNT'].to_dict()"
      ],
      "metadata": {
        "id": "fBS-046ejHHO"
      },
      "execution_count": null,
      "outputs": []
    },
    {
      "cell_type": "code",
      "source": [
        "# defining a function for calculating claim_deviation\n",
        "def Claim_deviation(row):\n",
        "    if (curr_date - row['TXN_DATE_TIME'])<pd.Timedelta(days=30):\n",
        "        return -1\n",
        "    claim_deviation = average_claim[row['INSURANCE_TYPE']] / row['CLAIM_AMOUNT']\n",
        "    if claim_deviation < 0.5:\n",
        "        return 1\n",
        "    else:\n",
        "        return 0"
      ],
      "metadata": {
        "id": "GAsA4_dZjMYF"
      },
      "execution_count": null,
      "outputs": []
    },
    {
      "cell_type": "code",
      "source": [
        "Task1['CLAIM_DEVIATION'] = Task1.apply(Claim_deviation,axis=1)"
      ],
      "metadata": {
        "id": "_ReZtgZSjPiW"
      },
      "execution_count": null,
      "outputs": []
    },
    {
      "cell_type": "code",
      "source": [
        "Task1.CLAIM_DEVIATION.value_counts()"
      ],
      "metadata": {
        "colab": {
          "base_uri": "https://localhost:8080/"
        },
        "id": "h3U123lgjUcd",
        "outputId": "29a53702-8958-4833-d738-7fc120a5db0c"
      },
      "execution_count": null,
      "outputs": [
        {
          "output_type": "execute_result",
          "data": {
            "text/plain": [
              " 0    9216\n",
              "-1     784\n",
              "Name: CLAIM_DEVIATION, dtype: int64"
            ]
          },
          "metadata": {},
          "execution_count": 131
        }
      ]
    },
    {
      "cell_type": "markdown",
      "source": [
        "There are 9216 claims with deviation less than 0.5\n",
        "784 claims with transaction history of less than 30 days\n"
      ],
      "metadata": {
        "id": "doORZV8_laWb"
      }
    },
    {
      "cell_type": "markdown",
      "source": [
        "Task #7\n",
        "\n",
        "\n",
        "Find All Agents who have worked on more than 2 types of Insurance Claims. Sort them by\n",
        "Total Claim Amount Approved under them in descending order"
      ],
      "metadata": {
        "id": "KEZyGPjzlm1j"
      }
    },
    {
      "cell_type": "code",
      "source": [
        "type_count = Task1.groupby('AGENT_ID')['INSURANCE_TYPE'].nunique()"
      ],
      "metadata": {
        "id": "gGwWw4otlUHy"
      },
      "execution_count": null,
      "outputs": []
    },
    {
      "cell_type": "code",
      "source": [
        "agent_insurance_types = type_count>2\n",
        "multi_type_agents = agent_insurance_types[agent_insurance_types].index\n",
        "Top_agents = Task1.groupby(['AGENT_ID','AGENT_NAME']).sum().loc[multi_type_agents][['CLAIM_AMOUNT']].sort_values('CLAIM_AMOUNT',ascending=False)\n",
        "Top_agents.join(type_count)"
      ],
      "metadata": {
        "colab": {
          "base_uri": "https://localhost:8080/",
          "height": 455
        },
        "id": "SHk6SPG1ma4d",
        "outputId": "6261541a-9efe-4908-c2e3-50eae84d1641"
      },
      "execution_count": null,
      "outputs": [
        {
          "output_type": "execute_result",
          "data": {
            "text/plain": [
              "                             CLAIM_AMOUNT  INSURANCE_TYPE\n",
              "AGENT_ID   AGENT_NAME                                    \n",
              "AGENT00807 Don Filkins             528800               6\n",
              "AGENT00679 Clara Barnett           489000               4\n",
              "AGENT00771 Roger Burns             422100               5\n",
              "AGENT00125 Salvador Soriano        400400               4\n",
              "AGENT00789 Alison Baron            392900               4\n",
              "...                                   ...             ...\n",
              "AGENT00910 Vincent Ragan            15500               3\n",
              "AGENT00689 Connie Hunt              13700               3\n",
              "AGENT00732 Sylvia Tran              11300               3\n",
              "AGENT00706 Laura Staggs             10800               3\n",
              "AGENT00604 Thelma Salinas            5500               3\n",
              "\n",
              "[1164 rows x 2 columns]"
            ],
            "text/html": [
              "\n",
              "  <div id=\"df-3c7423b1-f120-4e5b-8255-92a81164a779\">\n",
              "    <div class=\"colab-df-container\">\n",
              "      <div>\n",
              "<style scoped>\n",
              "    .dataframe tbody tr th:only-of-type {\n",
              "        vertical-align: middle;\n",
              "    }\n",
              "\n",
              "    .dataframe tbody tr th {\n",
              "        vertical-align: top;\n",
              "    }\n",
              "\n",
              "    .dataframe thead th {\n",
              "        text-align: right;\n",
              "    }\n",
              "</style>\n",
              "<table border=\"1\" class=\"dataframe\">\n",
              "  <thead>\n",
              "    <tr style=\"text-align: right;\">\n",
              "      <th></th>\n",
              "      <th></th>\n",
              "      <th>CLAIM_AMOUNT</th>\n",
              "      <th>INSURANCE_TYPE</th>\n",
              "    </tr>\n",
              "    <tr>\n",
              "      <th>AGENT_ID</th>\n",
              "      <th>AGENT_NAME</th>\n",
              "      <th></th>\n",
              "      <th></th>\n",
              "    </tr>\n",
              "  </thead>\n",
              "  <tbody>\n",
              "    <tr>\n",
              "      <th>AGENT00807</th>\n",
              "      <th>Don Filkins</th>\n",
              "      <td>528800</td>\n",
              "      <td>6</td>\n",
              "    </tr>\n",
              "    <tr>\n",
              "      <th>AGENT00679</th>\n",
              "      <th>Clara Barnett</th>\n",
              "      <td>489000</td>\n",
              "      <td>4</td>\n",
              "    </tr>\n",
              "    <tr>\n",
              "      <th>AGENT00771</th>\n",
              "      <th>Roger Burns</th>\n",
              "      <td>422100</td>\n",
              "      <td>5</td>\n",
              "    </tr>\n",
              "    <tr>\n",
              "      <th>AGENT00125</th>\n",
              "      <th>Salvador Soriano</th>\n",
              "      <td>400400</td>\n",
              "      <td>4</td>\n",
              "    </tr>\n",
              "    <tr>\n",
              "      <th>AGENT00789</th>\n",
              "      <th>Alison Baron</th>\n",
              "      <td>392900</td>\n",
              "      <td>4</td>\n",
              "    </tr>\n",
              "    <tr>\n",
              "      <th>...</th>\n",
              "      <th>...</th>\n",
              "      <td>...</td>\n",
              "      <td>...</td>\n",
              "    </tr>\n",
              "    <tr>\n",
              "      <th>AGENT00910</th>\n",
              "      <th>Vincent Ragan</th>\n",
              "      <td>15500</td>\n",
              "      <td>3</td>\n",
              "    </tr>\n",
              "    <tr>\n",
              "      <th>AGENT00689</th>\n",
              "      <th>Connie Hunt</th>\n",
              "      <td>13700</td>\n",
              "      <td>3</td>\n",
              "    </tr>\n",
              "    <tr>\n",
              "      <th>AGENT00732</th>\n",
              "      <th>Sylvia Tran</th>\n",
              "      <td>11300</td>\n",
              "      <td>3</td>\n",
              "    </tr>\n",
              "    <tr>\n",
              "      <th>AGENT00706</th>\n",
              "      <th>Laura Staggs</th>\n",
              "      <td>10800</td>\n",
              "      <td>3</td>\n",
              "    </tr>\n",
              "    <tr>\n",
              "      <th>AGENT00604</th>\n",
              "      <th>Thelma Salinas</th>\n",
              "      <td>5500</td>\n",
              "      <td>3</td>\n",
              "    </tr>\n",
              "  </tbody>\n",
              "</table>\n",
              "<p>1164 rows × 2 columns</p>\n",
              "</div>\n",
              "      <button class=\"colab-df-convert\" onclick=\"convertToInteractive('df-3c7423b1-f120-4e5b-8255-92a81164a779')\"\n",
              "              title=\"Convert this dataframe to an interactive table.\"\n",
              "              style=\"display:none;\">\n",
              "        \n",
              "  <svg xmlns=\"http://www.w3.org/2000/svg\" height=\"24px\"viewBox=\"0 0 24 24\"\n",
              "       width=\"24px\">\n",
              "    <path d=\"M0 0h24v24H0V0z\" fill=\"none\"/>\n",
              "    <path d=\"M18.56 5.44l.94 2.06.94-2.06 2.06-.94-2.06-.94-.94-2.06-.94 2.06-2.06.94zm-11 1L8.5 8.5l.94-2.06 2.06-.94-2.06-.94L8.5 2.5l-.94 2.06-2.06.94zm10 10l.94 2.06.94-2.06 2.06-.94-2.06-.94-.94-2.06-.94 2.06-2.06.94z\"/><path d=\"M17.41 7.96l-1.37-1.37c-.4-.4-.92-.59-1.43-.59-.52 0-1.04.2-1.43.59L10.3 9.45l-7.72 7.72c-.78.78-.78 2.05 0 2.83L4 21.41c.39.39.9.59 1.41.59.51 0 1.02-.2 1.41-.59l7.78-7.78 2.81-2.81c.8-.78.8-2.07 0-2.86zM5.41 20L4 18.59l7.72-7.72 1.47 1.35L5.41 20z\"/>\n",
              "  </svg>\n",
              "      </button>\n",
              "      \n",
              "  <style>\n",
              "    .colab-df-container {\n",
              "      display:flex;\n",
              "      flex-wrap:wrap;\n",
              "      gap: 12px;\n",
              "    }\n",
              "\n",
              "    .colab-df-convert {\n",
              "      background-color: #E8F0FE;\n",
              "      border: none;\n",
              "      border-radius: 50%;\n",
              "      cursor: pointer;\n",
              "      display: none;\n",
              "      fill: #1967D2;\n",
              "      height: 32px;\n",
              "      padding: 0 0 0 0;\n",
              "      width: 32px;\n",
              "    }\n",
              "\n",
              "    .colab-df-convert:hover {\n",
              "      background-color: #E2EBFA;\n",
              "      box-shadow: 0px 1px 2px rgba(60, 64, 67, 0.3), 0px 1px 3px 1px rgba(60, 64, 67, 0.15);\n",
              "      fill: #174EA6;\n",
              "    }\n",
              "\n",
              "    [theme=dark] .colab-df-convert {\n",
              "      background-color: #3B4455;\n",
              "      fill: #D2E3FC;\n",
              "    }\n",
              "\n",
              "    [theme=dark] .colab-df-convert:hover {\n",
              "      background-color: #434B5C;\n",
              "      box-shadow: 0px 1px 3px 1px rgba(0, 0, 0, 0.15);\n",
              "      filter: drop-shadow(0px 1px 2px rgba(0, 0, 0, 0.3));\n",
              "      fill: #FFFFFF;\n",
              "    }\n",
              "  </style>\n",
              "\n",
              "      <script>\n",
              "        const buttonEl =\n",
              "          document.querySelector('#df-3c7423b1-f120-4e5b-8255-92a81164a779 button.colab-df-convert');\n",
              "        buttonEl.style.display =\n",
              "          google.colab.kernel.accessAllowed ? 'block' : 'none';\n",
              "\n",
              "        async function convertToInteractive(key) {\n",
              "          const element = document.querySelector('#df-3c7423b1-f120-4e5b-8255-92a81164a779');\n",
              "          const dataTable =\n",
              "            await google.colab.kernel.invokeFunction('convertToInteractive',\n",
              "                                                     [key], {});\n",
              "          if (!dataTable) return;\n",
              "\n",
              "          const docLinkHtml = 'Like what you see? Visit the ' +\n",
              "            '<a target=\"_blank\" href=https://colab.research.google.com/notebooks/data_table.ipynb>data table notebook</a>'\n",
              "            + ' to learn more about interactive tables.';\n",
              "          element.innerHTML = '';\n",
              "          dataTable['output_type'] = 'display_data';\n",
              "          await google.colab.output.renderOutput(dataTable, element);\n",
              "          const docLink = document.createElement('div');\n",
              "          docLink.innerHTML = docLinkHtml;\n",
              "          element.appendChild(docLink);\n",
              "        }\n",
              "      </script>\n",
              "    </div>\n",
              "  </div>\n",
              "  "
            ]
          },
          "metadata": {},
          "execution_count": 133
        }
      ]
    },
    {
      "cell_type": "markdown",
      "source": [
        "Task #8\n",
        "\n",
        "\n",
        "Mobile & Travel Insurance premium are discounted by 10%\n",
        "Health and Property Insurance premium are increased by 7%\n",
        "Life and Motor Insurance premium are marginally increased by 2%\n",
        "What will be overall change in % of the Premium Amount Collected for all these Customer?"
      ],
      "metadata": {
        "id": "Y8ioXmdGm4GN"
      }
    },
    {
      "cell_type": "code",
      "source": [
        "premium_collected_past = Task1['PREMIUM_AMOUNT'].sum()\n",
        "prem_types = view.groupby('INSURANCE_TYPE').sum()['PREMIUM_AMOUNT'].to_dict()\n",
        "prem_types['Mobile']=prem_types['Mobile']*0.9\n",
        "prem_types['Travel']=prem_types['Travel']*0.9\n",
        "prem_types['Health']=prem_types['Health']*1.07\n",
        "prem_types['Property']=prem_types['Property']*1.07\n",
        "prem_types['Life']=prem_types['Life']*1.02\n",
        "prem_types['Motor']=prem_types['Motor']*1.02\n",
        "revised_premium = sum(prem_types.values())\n",
        "(revised_premium-premium_collected_past)*100/premium_collected_past"
      ],
      "metadata": {
        "colab": {
          "base_uri": "https://localhost:8080/"
        },
        "id": "1Q-TeK_MmhbA",
        "outputId": "7b52780c-9ee2-4bb3-96c9-4dfe7192d63b"
      },
      "execution_count": null,
      "outputs": [
        {
          "output_type": "execute_result",
          "data": {
            "text/plain": [
              "-27.07189348107943"
            ]
          },
          "metadata": {},
          "execution_count": 134
        }
      ]
    },
    {
      "cell_type": "code",
      "source": [
        "premium_collected_past,revised_premium"
      ],
      "metadata": {
        "colab": {
          "base_uri": "https://localhost:8080/"
        },
        "id": "Em52QUNynurQ",
        "outputId": "d5463e99-34f0-4351-ab93-a7f61d725b8a"
      },
      "execution_count": null,
      "outputs": [
        {
          "output_type": "execute_result",
          "data": {
            "text/plain": [
              "(885085.95, 645476.4244)"
            ]
          },
          "metadata": {},
          "execution_count": 135
        }
      ]
    },
    {
      "cell_type": "markdown",
      "source": [
        "\n",
        "# New SectionOverall change in Premium amount collected is approximately 2.68% \n"
      ],
      "metadata": {
        "id": "LwMp-T9tnv-l"
      }
    },
    {
      "cell_type": "markdown",
      "source": [
        "# Task #9\n",
        "\n",
        "Business wants to give discount to customer who are loyal and under stress due to Covid\n",
        "19. They have laid down an eligibility Criteria as follow\n",
        "IF CUSTOMER_TENURE > 60 AND EMPLOYMENT_STATUS = “N”\n",
        "AND NO_OF_FAMILY_MEMBERS >=4 THEN 1 ELSE 0\n",
        "\n",
        "Create a new column “ELIGIBLE_FOR_DISCOUNT” and find it\n",
        "mean."
      ],
      "metadata": {
        "id": "mpzcMhuXo_k9"
      }
    },
    {
      "cell_type": "code",
      "source": [
        "discount=(Task1['TENURE']>60) & (Task1['EMPLOYMENT_STATUS']=='N')&(Task1['NO_OF_FAMILY_MEMBERS']>=4)\n",
        "Task1['ELIGIBLE_FOR_DISCOUNT'] = discount.astype('int')\n",
        "Task1.ELIGIBLE_FOR_DISCOUNT.mean()"
      ],
      "metadata": {
        "colab": {
          "base_uri": "https://localhost:8080/"
        },
        "id": "0miS3WFHn4f_",
        "outputId": "25b37a0d-b6cd-49f2-fbfc-e637d82f9ecf"
      },
      "execution_count": null,
      "outputs": [
        {
          "output_type": "execute_result",
          "data": {
            "text/plain": [
              "0.0299"
            ]
          },
          "metadata": {},
          "execution_count": 136
        }
      ]
    },
    {
      "cell_type": "markdown",
      "source": [
        "Mean is 0.0299"
      ],
      "metadata": {
        "id": "W4XkyVb9p57j"
      }
    },
    {
      "cell_type": "markdown",
      "source": [
        "# Task #10\n",
        "Business wants to check Claim Velocity which is defined as follow\n",
        "CLAIM_VELOCITY = NO_OF_CLAIMS_IN_LAST30DAYS (for the current insurance type)\n",
        "/ NO_OF_CLAIMS_IN_LAST3DAYS (for the current insurance type)\n",
        "Note: LAST30DAYS & LAST3DAYS does not include current\n",
        "day"
      ],
      "metadata": {
        "id": "5Yl4kOJRqOH4"
      }
    },
    {
      "cell_type": "code",
      "source": [
        "view.TXN_DATE_TIME.max()"
      ],
      "metadata": {
        "colab": {
          "base_uri": "https://localhost:8080/",
          "height": 35
        },
        "id": "XCSF2usouL2a",
        "outputId": "d3107fe3-03dd-4176-c978-9dfdc6c8bef5"
      },
      "execution_count": null,
      "outputs": [
        {
          "output_type": "execute_result",
          "data": {
            "text/plain": [
              "'2021-03-09 00:00:00'"
            ],
            "application/vnd.google.colaboratory.intrinsic+json": {
              "type": "string"
            }
          },
          "metadata": {},
          "execution_count": 137
        }
      ]
    },
    {
      "cell_type": "code",
      "source": [
        "\n",
        "curr_date = pd.to_datetime('2021-06-30')\n",
        "view['CLAIM_STATUS'].value_counts()\n"
      ],
      "metadata": {
        "colab": {
          "base_uri": "https://localhost:8080/"
        },
        "id": "SlXAgdCKuZQZ",
        "outputId": "6f44f954-27d8-4a85-8a04-2b3a41d3133f"
      },
      "execution_count": null,
      "outputs": [
        {
          "output_type": "execute_result",
          "data": {
            "text/plain": [
              "A    6777\n",
              "D     357\n",
              "Name: CLAIM_STATUS, dtype: int64"
            ]
          },
          "metadata": {},
          "execution_count": 138
        }
      ]
    },
    {
      "cell_type": "markdown",
      "source": [
        "# Task #11\n",
        "Find all low performing agents i.e. employees who are in the bottom 5 percentile based\n",
        "on Claims worked by them."
      ],
      "metadata": {
        "id": "4t1JIiFxrxHt"
      }
    },
    {
      "cell_type": "code",
      "source": [
        "bottom_limit = Task1.groupby('AGENT_ID').sum().quantile(0.05)['CLAIM_AMOUNT']\n",
        "Agent_data = Task1.groupby('AGENT_ID').sum()\n",
        "\n",
        "Low_performing_agents = Agent_data[Agent_data['CLAIM_AMOUNT']<=bottom_limit][['CLAIM_AMOUNT']]"
      ],
      "metadata": {
        "id": "j-FIOLq3r1_E"
      },
      "execution_count": null,
      "outputs": []
    },
    {
      "cell_type": "code",
      "source": [
        "Low_performing_agents"
      ],
      "metadata": {
        "colab": {
          "base_uri": "https://localhost:8080/",
          "height": 1000
        },
        "id": "9UI0R2IUsICo",
        "outputId": "30070a4a-58b6-4bc3-8595-4d22b72f42e2"
      },
      "execution_count": null,
      "outputs": [
        {
          "output_type": "execute_result",
          "data": {
            "text/plain": [
              "            CLAIM_AMOUNT\n",
              "AGENT_ID                \n",
              "AGENT00006         22400\n",
              "AGENT00014          7400\n",
              "AGENT00016         27000\n",
              "AGENT00085         25700\n",
              "AGENT00088         27700\n",
              "AGENT00091         30000\n",
              "AGENT00098         28200\n",
              "AGENT00134         22000\n",
              "AGENT00149         28900\n",
              "AGENT00156         13200\n",
              "AGENT00172         22200\n",
              "AGENT00185         16100\n",
              "AGENT00186         27700\n",
              "AGENT00188         28400\n",
              "AGENT00197         18500\n",
              "AGENT00252         20000\n",
              "AGENT00263         11500\n",
              "AGENT00275         16200\n",
              "AGENT00279         28000\n",
              "AGENT00300         12600\n",
              "AGENT00310         28800\n",
              "AGENT00316         22200\n",
              "AGENT00351         21700\n",
              "AGENT00425         17800\n",
              "AGENT00442         30300\n",
              "AGENT00536         20000\n",
              "AGENT00562         21100\n",
              "AGENT00571         24200\n",
              "AGENT00585         16600\n",
              "AGENT00590         22200\n",
              "AGENT00604          5500\n",
              "AGENT00621          5300\n",
              "AGENT00628          6100\n",
              "AGENT00672         21300\n",
              "AGENT00689         13700\n",
              "AGENT00706         10800\n",
              "AGENT00721          9000\n",
              "AGENT00732         11300\n",
              "AGENT00773         15000\n",
              "AGENT00780         11300\n",
              "AGENT00790          6000\n",
              "AGENT00804         20000\n",
              "AGENT00805         22600\n",
              "AGENT00830         23500\n",
              "AGENT00841         17800\n",
              "AGENT00856         24200\n",
              "AGENT00894         27600\n",
              "AGENT00910         15500\n",
              "AGENT00969         28300\n",
              "AGENT00985         30000\n",
              "AGENT01021         24300\n",
              "AGENT01037          5600\n",
              "AGENT01052         28000\n",
              "AGENT01077          4200\n",
              "AGENT01107         24700\n",
              "AGENT01128         28000\n",
              "AGENT01131         27500\n",
              "AGENT01151         28000\n",
              "AGENT01154           800\n",
              "AGENT01179         27300"
            ],
            "text/html": [
              "\n",
              "  <div id=\"df-e921a413-311a-4783-845f-8f93c39c8d9a\">\n",
              "    <div class=\"colab-df-container\">\n",
              "      <div>\n",
              "<style scoped>\n",
              "    .dataframe tbody tr th:only-of-type {\n",
              "        vertical-align: middle;\n",
              "    }\n",
              "\n",
              "    .dataframe tbody tr th {\n",
              "        vertical-align: top;\n",
              "    }\n",
              "\n",
              "    .dataframe thead th {\n",
              "        text-align: right;\n",
              "    }\n",
              "</style>\n",
              "<table border=\"1\" class=\"dataframe\">\n",
              "  <thead>\n",
              "    <tr style=\"text-align: right;\">\n",
              "      <th></th>\n",
              "      <th>CLAIM_AMOUNT</th>\n",
              "    </tr>\n",
              "    <tr>\n",
              "      <th>AGENT_ID</th>\n",
              "      <th></th>\n",
              "    </tr>\n",
              "  </thead>\n",
              "  <tbody>\n",
              "    <tr>\n",
              "      <th>AGENT00006</th>\n",
              "      <td>22400</td>\n",
              "    </tr>\n",
              "    <tr>\n",
              "      <th>AGENT00014</th>\n",
              "      <td>7400</td>\n",
              "    </tr>\n",
              "    <tr>\n",
              "      <th>AGENT00016</th>\n",
              "      <td>27000</td>\n",
              "    </tr>\n",
              "    <tr>\n",
              "      <th>AGENT00085</th>\n",
              "      <td>25700</td>\n",
              "    </tr>\n",
              "    <tr>\n",
              "      <th>AGENT00088</th>\n",
              "      <td>27700</td>\n",
              "    </tr>\n",
              "    <tr>\n",
              "      <th>AGENT00091</th>\n",
              "      <td>30000</td>\n",
              "    </tr>\n",
              "    <tr>\n",
              "      <th>AGENT00098</th>\n",
              "      <td>28200</td>\n",
              "    </tr>\n",
              "    <tr>\n",
              "      <th>AGENT00134</th>\n",
              "      <td>22000</td>\n",
              "    </tr>\n",
              "    <tr>\n",
              "      <th>AGENT00149</th>\n",
              "      <td>28900</td>\n",
              "    </tr>\n",
              "    <tr>\n",
              "      <th>AGENT00156</th>\n",
              "      <td>13200</td>\n",
              "    </tr>\n",
              "    <tr>\n",
              "      <th>AGENT00172</th>\n",
              "      <td>22200</td>\n",
              "    </tr>\n",
              "    <tr>\n",
              "      <th>AGENT00185</th>\n",
              "      <td>16100</td>\n",
              "    </tr>\n",
              "    <tr>\n",
              "      <th>AGENT00186</th>\n",
              "      <td>27700</td>\n",
              "    </tr>\n",
              "    <tr>\n",
              "      <th>AGENT00188</th>\n",
              "      <td>28400</td>\n",
              "    </tr>\n",
              "    <tr>\n",
              "      <th>AGENT00197</th>\n",
              "      <td>18500</td>\n",
              "    </tr>\n",
              "    <tr>\n",
              "      <th>AGENT00252</th>\n",
              "      <td>20000</td>\n",
              "    </tr>\n",
              "    <tr>\n",
              "      <th>AGENT00263</th>\n",
              "      <td>11500</td>\n",
              "    </tr>\n",
              "    <tr>\n",
              "      <th>AGENT00275</th>\n",
              "      <td>16200</td>\n",
              "    </tr>\n",
              "    <tr>\n",
              "      <th>AGENT00279</th>\n",
              "      <td>28000</td>\n",
              "    </tr>\n",
              "    <tr>\n",
              "      <th>AGENT00300</th>\n",
              "      <td>12600</td>\n",
              "    </tr>\n",
              "    <tr>\n",
              "      <th>AGENT00310</th>\n",
              "      <td>28800</td>\n",
              "    </tr>\n",
              "    <tr>\n",
              "      <th>AGENT00316</th>\n",
              "      <td>22200</td>\n",
              "    </tr>\n",
              "    <tr>\n",
              "      <th>AGENT00351</th>\n",
              "      <td>21700</td>\n",
              "    </tr>\n",
              "    <tr>\n",
              "      <th>AGENT00425</th>\n",
              "      <td>17800</td>\n",
              "    </tr>\n",
              "    <tr>\n",
              "      <th>AGENT00442</th>\n",
              "      <td>30300</td>\n",
              "    </tr>\n",
              "    <tr>\n",
              "      <th>AGENT00536</th>\n",
              "      <td>20000</td>\n",
              "    </tr>\n",
              "    <tr>\n",
              "      <th>AGENT00562</th>\n",
              "      <td>21100</td>\n",
              "    </tr>\n",
              "    <tr>\n",
              "      <th>AGENT00571</th>\n",
              "      <td>24200</td>\n",
              "    </tr>\n",
              "    <tr>\n",
              "      <th>AGENT00585</th>\n",
              "      <td>16600</td>\n",
              "    </tr>\n",
              "    <tr>\n",
              "      <th>AGENT00590</th>\n",
              "      <td>22200</td>\n",
              "    </tr>\n",
              "    <tr>\n",
              "      <th>AGENT00604</th>\n",
              "      <td>5500</td>\n",
              "    </tr>\n",
              "    <tr>\n",
              "      <th>AGENT00621</th>\n",
              "      <td>5300</td>\n",
              "    </tr>\n",
              "    <tr>\n",
              "      <th>AGENT00628</th>\n",
              "      <td>6100</td>\n",
              "    </tr>\n",
              "    <tr>\n",
              "      <th>AGENT00672</th>\n",
              "      <td>21300</td>\n",
              "    </tr>\n",
              "    <tr>\n",
              "      <th>AGENT00689</th>\n",
              "      <td>13700</td>\n",
              "    </tr>\n",
              "    <tr>\n",
              "      <th>AGENT00706</th>\n",
              "      <td>10800</td>\n",
              "    </tr>\n",
              "    <tr>\n",
              "      <th>AGENT00721</th>\n",
              "      <td>9000</td>\n",
              "    </tr>\n",
              "    <tr>\n",
              "      <th>AGENT00732</th>\n",
              "      <td>11300</td>\n",
              "    </tr>\n",
              "    <tr>\n",
              "      <th>AGENT00773</th>\n",
              "      <td>15000</td>\n",
              "    </tr>\n",
              "    <tr>\n",
              "      <th>AGENT00780</th>\n",
              "      <td>11300</td>\n",
              "    </tr>\n",
              "    <tr>\n",
              "      <th>AGENT00790</th>\n",
              "      <td>6000</td>\n",
              "    </tr>\n",
              "    <tr>\n",
              "      <th>AGENT00804</th>\n",
              "      <td>20000</td>\n",
              "    </tr>\n",
              "    <tr>\n",
              "      <th>AGENT00805</th>\n",
              "      <td>22600</td>\n",
              "    </tr>\n",
              "    <tr>\n",
              "      <th>AGENT00830</th>\n",
              "      <td>23500</td>\n",
              "    </tr>\n",
              "    <tr>\n",
              "      <th>AGENT00841</th>\n",
              "      <td>17800</td>\n",
              "    </tr>\n",
              "    <tr>\n",
              "      <th>AGENT00856</th>\n",
              "      <td>24200</td>\n",
              "    </tr>\n",
              "    <tr>\n",
              "      <th>AGENT00894</th>\n",
              "      <td>27600</td>\n",
              "    </tr>\n",
              "    <tr>\n",
              "      <th>AGENT00910</th>\n",
              "      <td>15500</td>\n",
              "    </tr>\n",
              "    <tr>\n",
              "      <th>AGENT00969</th>\n",
              "      <td>28300</td>\n",
              "    </tr>\n",
              "    <tr>\n",
              "      <th>AGENT00985</th>\n",
              "      <td>30000</td>\n",
              "    </tr>\n",
              "    <tr>\n",
              "      <th>AGENT01021</th>\n",
              "      <td>24300</td>\n",
              "    </tr>\n",
              "    <tr>\n",
              "      <th>AGENT01037</th>\n",
              "      <td>5600</td>\n",
              "    </tr>\n",
              "    <tr>\n",
              "      <th>AGENT01052</th>\n",
              "      <td>28000</td>\n",
              "    </tr>\n",
              "    <tr>\n",
              "      <th>AGENT01077</th>\n",
              "      <td>4200</td>\n",
              "    </tr>\n",
              "    <tr>\n",
              "      <th>AGENT01107</th>\n",
              "      <td>24700</td>\n",
              "    </tr>\n",
              "    <tr>\n",
              "      <th>AGENT01128</th>\n",
              "      <td>28000</td>\n",
              "    </tr>\n",
              "    <tr>\n",
              "      <th>AGENT01131</th>\n",
              "      <td>27500</td>\n",
              "    </tr>\n",
              "    <tr>\n",
              "      <th>AGENT01151</th>\n",
              "      <td>28000</td>\n",
              "    </tr>\n",
              "    <tr>\n",
              "      <th>AGENT01154</th>\n",
              "      <td>800</td>\n",
              "    </tr>\n",
              "    <tr>\n",
              "      <th>AGENT01179</th>\n",
              "      <td>27300</td>\n",
              "    </tr>\n",
              "  </tbody>\n",
              "</table>\n",
              "</div>\n",
              "      <button class=\"colab-df-convert\" onclick=\"convertToInteractive('df-e921a413-311a-4783-845f-8f93c39c8d9a')\"\n",
              "              title=\"Convert this dataframe to an interactive table.\"\n",
              "              style=\"display:none;\">\n",
              "        \n",
              "  <svg xmlns=\"http://www.w3.org/2000/svg\" height=\"24px\"viewBox=\"0 0 24 24\"\n",
              "       width=\"24px\">\n",
              "    <path d=\"M0 0h24v24H0V0z\" fill=\"none\"/>\n",
              "    <path d=\"M18.56 5.44l.94 2.06.94-2.06 2.06-.94-2.06-.94-.94-2.06-.94 2.06-2.06.94zm-11 1L8.5 8.5l.94-2.06 2.06-.94-2.06-.94L8.5 2.5l-.94 2.06-2.06.94zm10 10l.94 2.06.94-2.06 2.06-.94-2.06-.94-.94-2.06-.94 2.06-2.06.94z\"/><path d=\"M17.41 7.96l-1.37-1.37c-.4-.4-.92-.59-1.43-.59-.52 0-1.04.2-1.43.59L10.3 9.45l-7.72 7.72c-.78.78-.78 2.05 0 2.83L4 21.41c.39.39.9.59 1.41.59.51 0 1.02-.2 1.41-.59l7.78-7.78 2.81-2.81c.8-.78.8-2.07 0-2.86zM5.41 20L4 18.59l7.72-7.72 1.47 1.35L5.41 20z\"/>\n",
              "  </svg>\n",
              "      </button>\n",
              "      \n",
              "  <style>\n",
              "    .colab-df-container {\n",
              "      display:flex;\n",
              "      flex-wrap:wrap;\n",
              "      gap: 12px;\n",
              "    }\n",
              "\n",
              "    .colab-df-convert {\n",
              "      background-color: #E8F0FE;\n",
              "      border: none;\n",
              "      border-radius: 50%;\n",
              "      cursor: pointer;\n",
              "      display: none;\n",
              "      fill: #1967D2;\n",
              "      height: 32px;\n",
              "      padding: 0 0 0 0;\n",
              "      width: 32px;\n",
              "    }\n",
              "\n",
              "    .colab-df-convert:hover {\n",
              "      background-color: #E2EBFA;\n",
              "      box-shadow: 0px 1px 2px rgba(60, 64, 67, 0.3), 0px 1px 3px 1px rgba(60, 64, 67, 0.15);\n",
              "      fill: #174EA6;\n",
              "    }\n",
              "\n",
              "    [theme=dark] .colab-df-convert {\n",
              "      background-color: #3B4455;\n",
              "      fill: #D2E3FC;\n",
              "    }\n",
              "\n",
              "    [theme=dark] .colab-df-convert:hover {\n",
              "      background-color: #434B5C;\n",
              "      box-shadow: 0px 1px 3px 1px rgba(0, 0, 0, 0.15);\n",
              "      filter: drop-shadow(0px 1px 2px rgba(0, 0, 0, 0.3));\n",
              "      fill: #FFFFFF;\n",
              "    }\n",
              "  </style>\n",
              "\n",
              "      <script>\n",
              "        const buttonEl =\n",
              "          document.querySelector('#df-e921a413-311a-4783-845f-8f93c39c8d9a button.colab-df-convert');\n",
              "        buttonEl.style.display =\n",
              "          google.colab.kernel.accessAllowed ? 'block' : 'none';\n",
              "\n",
              "        async function convertToInteractive(key) {\n",
              "          const element = document.querySelector('#df-e921a413-311a-4783-845f-8f93c39c8d9a');\n",
              "          const dataTable =\n",
              "            await google.colab.kernel.invokeFunction('convertToInteractive',\n",
              "                                                     [key], {});\n",
              "          if (!dataTable) return;\n",
              "\n",
              "          const docLinkHtml = 'Like what you see? Visit the ' +\n",
              "            '<a target=\"_blank\" href=https://colab.research.google.com/notebooks/data_table.ipynb>data table notebook</a>'\n",
              "            + ' to learn more about interactive tables.';\n",
              "          element.innerHTML = '';\n",
              "          dataTable['output_type'] = 'display_data';\n",
              "          await google.colab.output.renderOutput(dataTable, element);\n",
              "          const docLink = document.createElement('div');\n",
              "          docLink.innerHTML = docLinkHtml;\n",
              "          element.appendChild(docLink);\n",
              "        }\n",
              "      </script>\n",
              "    </div>\n",
              "  </div>\n",
              "  "
            ]
          },
          "metadata": {},
          "execution_count": 140
        }
      ]
    },
    {
      "cell_type": "markdown",
      "source": [
        "# Task #12\n",
        "Business wants to find all Suspicious Employees (Agents).\n",
        "IF TOTAL CLAIM AMOUNT which meet below criteria is >= 15000 THEN AGENT is classified\n",
        "as Suspicious ELSE Not\n",
        "CLAIM_STATUS = Approved AND CUSTOMER_RISK_SEGMENTATION = High\n",
        "AND INCIDENT_SEVERITY = “Major Loss”\n",
        "If Suspicious, then 1 ELSE 0. Find mean of this column."
      ],
      "metadata": {
        "id": "88aHl3sAspEc"
      }
    },
    {
      "cell_type": "code",
      "source": [
        "criteria = (Task1['CLAIM_STATUS']=='A')&(Task1['RISK_SEGMENTATION']=='H')&(Task1['INCIDENT_SEVERITY']=='Major Loss')\n",
        "criteriamet = view[criteria]\n",
        "grouped_suspicion_data = criteriamet.groupby('AGENT_ID').sum()\n",
        "suspicious_agents = list(grouped_suspicion_data[grouped_suspicion_data['CLAIM_AMOUNT']>=15000].index)\n",
        "employee_data['SUSPICIOUS'] = 0\n",
        "sus_emp_slice = employee_data['AGENT_ID'].isin(suspicious_agents)"
      ],
      "metadata": {
        "colab": {
          "base_uri": "https://localhost:8080/"
        },
        "id": "uqtT4xCasMgq",
        "outputId": "f9e19d0c-8571-4ffa-d469-e2d719707a4b"
      },
      "execution_count": null,
      "outputs": [
        {
          "output_type": "stream",
          "name": "stderr",
          "text": [
            "/usr/local/lib/python3.7/dist-packages/ipykernel_launcher.py:2: UserWarning: Boolean Series key will be reindexed to match DataFrame index.\n",
            "  \n"
          ]
        }
      ]
    },
    {
      "cell_type": "code",
      "source": [
        "employee_data.loc[sus_emp_slice,'SUSPICIOUS']=1\n",
        "employee_data['SUSPICIOUS'].mean()"
      ],
      "metadata": {
        "colab": {
          "base_uri": "https://localhost:8080/"
        },
        "id": "JYm_wGj0tAdd",
        "outputId": "612d71b9-ca66-4b9e-fc8b-91392e6d1112"
      },
      "execution_count": null,
      "outputs": [
        {
          "output_type": "execute_result",
          "data": {
            "text/plain": [
              "0.08666666666666667"
            ]
          },
          "metadata": {},
          "execution_count": 142
        }
      ]
    },
    {
      "cell_type": "markdown",
      "source": [
        "The mean of suspicious column is 0.124167 that means from all employees 12.42% are suspicious"
      ],
      "metadata": {
        "id": "qD7qa4t3tIbC"
      }
    }
  ]
}